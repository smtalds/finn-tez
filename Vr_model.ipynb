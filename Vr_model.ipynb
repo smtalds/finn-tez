{
 "cells": [
  {
   "cell_type": "code",
   "execution_count": 1,
   "id": "8a866e66",
   "metadata": {},
   "outputs": [
    {
     "name": "stdout",
     "output_type": "stream",
     "text": [
      "/home/kuantek/FINN/finn/notebooks/samet_workspace/vivado_proj\n"
     ]
    }
   ],
   "source": [
    "from finn.util.basic import make_build_dir\n",
    "from finn.util.visualization import showInNetron\n",
    "import os\n",
    "import torch\n",
    "\n",
    "custom_path = os.path.expanduser(\"/home/kuantek/FINN/finn/notebooks/samet_workspace/vivado_proj\") \n",
    "os.environ[\"FINN_BUILD_DIR\"] = custom_path\n",
    "\n",
    "# Verify the environment variable has been set correctly\n",
    "print(os.environ[\"FINN_BUILD_DIR\"])\n",
    "\n",
    "build_dir = os.environ[\"FINN_BUILD_DIR\"]\n",
    " \n",
    "#build_dir = os.environ[\"FINN_BUILD_DIR\"]\n",
    "PATH = './model.pth'"
   ]
  },
  {
   "cell_type": "code",
   "execution_count": 2,
   "id": "f27b8b57",
   "metadata": {},
   "outputs": [
    {
     "name": "stdout",
     "output_type": "stream",
     "text": [
      "The file exists at the specified path\n"
     ]
    }
   ],
   "source": [
    "import os\n",
    "\n",
    "file_path = \"/home/kuantek/FINN/finn/notebooks/samet_workspace/vivado_proj\"\n",
    "if os.path.exists(file_path):\n",
    "    print(\"The file exists at the specified path\")\n",
    "else:\n",
    "    print(\"The file does not exist at the specified path\")"
   ]
  },
  {
   "cell_type": "code",
   "execution_count": 3,
   "id": "32e560b1",
   "metadata": {},
   "outputs": [],
   "source": [
    "from torch import nn\n",
    "import brevitas.nn as qnn\n",
    "\n",
    "\n",
    "class AI85KWS20Netv3_brevitas(nn.Module):\n",
    "    \"\"\"\n",
    "    Compound KWS20 v3 Audio net, all with Conv1Ds, but with brevitas\n",
    "    \"\"\"\n",
    "\n",
    "    # num_classes = n keywords + 1 unknown\n",
    "    def __init__(\n",
    "            self,\n",
    "            num_classes=21,\n",
    "            num_channels=128,\n",
    "            dimensions=(128, 1),  # pylint: disable=unused-argument\n",
    "            bias=False,\n",
    "            weight_quant_type='INT',\n",
    "            weight_bit_width=8,\n",
    "            weight_scaling_impl_type='CONST',\n",
    "            weight_scaling_const=1,\n",
    "            bias_quant_type='INT',\n",
    "            bias_bit_width=8,\n",
    "            act_bit_width=8,\n",
    "            act_scaling_impl_type='CONST',\n",
    "            act_scaling_const=1,\n",
    "            **kwargs\n",
    "\n",
    "    ):\n",
    "        super().__init__()\n",
    "        self.indentity = qnn.QuantIdentity(bit_width=8,\n",
    "                                           return_quant_tensor=False)\n",
    "        self.voice_conv1 = qnn.QuantConv1d(num_channels, 100, 1, bias=False,stride=1, padding=0,\n",
    "                                           weight_bit_width=4,\n",
    "                                           )\n",
    "        self.voice_conv1_relu = qnn.QuantReLU(bit_width=8,\n",
    "                                              return_quant_tensor=False)\n",
    "\n",
    "        # T: 128 F: 100\n",
    "        self.voice_conv2 = qnn.QuantConv1d(100, 96, 3, bias=False,stride=1, padding=0,\n",
    "                                           weight_bit_width=4,\n",
    "                                           )\n",
    "        self.voice_conv2_relu = qnn.QuantReLU(bit_width=8,\n",
    "                                              return_quant_tensor=False)\n",
    "        # T: 126 F : 96\n",
    "        self.voice_conv3 = qnn.QuantConv1d(96, 64, 3, bias=False,stride=1, padding=0,\n",
    "                                           weight_bit_width=4,\n",
    "                                           )\n",
    "        self.voice_conv3_maxpool = qnn.QuantMaxPool1d(kernel_size=2, stride=2)\n",
    "        self.voice_conv3_relu = qnn.QuantReLU(bit_width=8,\n",
    "                                              return_quant_tensor=False)\n",
    "        # T: 62 F : 64\n",
    "        self.voice_conv4 = qnn.QuantConv1d(64, 48, 3, bias=False,stride=1, padding=0,\n",
    "                                           weight_bit_width=4,\n",
    "                                           )\n",
    "        self.voice_conv4_relu = qnn.QuantReLU(bit_width=8,\n",
    "                                              return_quant_tensor=False)\n",
    "        # T : 60 F : 48\n",
    "        self.kws_conv1 = qnn.QuantConv1d(48, 64, 3, bias=False,stride=1, padding=0,\n",
    "                                         weight_bit_width=4,\n",
    "                                         )\n",
    "        self.kws_conv1_maxpool = qnn.QuantMaxPool1d(kernel_size=2, stride=2)\n",
    "        self.kws_conv1_relu = qnn.QuantReLU(bit_width=8,\n",
    "                                            return_quant_tensor=False)\n",
    "\n",
    "        # T: 30 F : 64\n",
    "        self.kws_conv2 = qnn.QuantConv1d(64, 96, 3, bias=False,stride=1, padding=0,\n",
    "                                         weight_bit_width=4,\n",
    "                                         )\n",
    "        self.kws_conv2_relu = qnn.QuantReLU(bit_width=8,\n",
    "                                            return_quant_tensor=False)\n",
    "        # T: 28 F : 96\n",
    "        self.kws_conv3 = qnn.QuantConv1d(96, 100, 3, bias=False,stride=1, padding=0,\n",
    "                                         weight_bit_width=4,\n",
    "                                         )\n",
    "        self.kws_conv3_relu = qnn.QuantReLU(bit_width=8,\n",
    "                                            return_quant_tensor=False)\n",
    "\n",
    "        # T : 14 F: 100\n",
    "        self.kws_conv4 = qnn.QuantConv1d(100, 64, 6, bias=False,stride=1, padding=0,\n",
    "                                         weight_bit_width=4,\n",
    "                                         )\n",
    "        self.kws_conv4_maxpool = qnn.QuantMaxPool1d(kernel_size=2, stride=2)\n",
    "        self.kws_conv4_relu = qnn.QuantReLU(bit_width=8,\n",
    "                                            return_quant_tensor=False)\n",
    "        # T : 2 F: 128\n",
    "        self.fc = nn.Linear(640, num_classes, bias=False)\n",
    "                                \n",
    "\n",
    "    def forward(self, x):  # pylint: disable=arguments-differ\n",
    "        \"\"\"Forward prop\"\"\"\n",
    "        # Run CNN\n",
    "        x = self.indentity(x)\n",
    "        x = self.voice_conv1(x)\n",
    "        x = self.voice_conv1_relu(x)\n",
    "        x = self.voice_conv2(x)\n",
    "        x = self.voice_conv2_relu(x)\n",
    "        x = self.voice_conv3(x)\n",
    "        x = self.voice_conv3_maxpool(x)\n",
    "        x = self.voice_conv3_relu(x)\n",
    "        x = self.voice_conv4(x)\n",
    "        x = self.voice_conv4_relu(x)\n",
    "        x = self.kws_conv1(x)\n",
    "        x = self.kws_conv1_maxpool(x)\n",
    "        x = self.kws_conv1_relu(x)\n",
    "        x = self.kws_conv2(x)\n",
    "        x = self.kws_conv2_relu(x)\n",
    "        x = self.kws_conv3(x)\n",
    "        x = self.kws_conv3_relu(x)\n",
    "        x = self.kws_conv4(x)\n",
    "        x = self.kws_conv4_maxpool(x)\n",
    "        x = self.kws_conv4_relu(x)\n",
    "        x = x.view(x.size(0), -1)\n",
    "        x = self.fc(x)\n",
    "        return x\n",
    "\n",
    "\n",
    "def samet_brevitas(pretrained=False, **kwargs):\n",
    "    \"\"\"\n",
    "    Constructs a AI85KWS20Net model.\n",
    "    rn AI85KWS20Net(**kwargs)\n",
    "    \"\"\"\n",
    "    assert not pretrained\n",
    "    return AI85KWS20Netv3_brevitas(**kwargs)\n",
    "\n",
    "doruk_qnn = samet_brevitas()"
   ]
  },
  {
   "cell_type": "code",
   "execution_count": 4,
   "id": "0834119f",
   "metadata": {},
   "outputs": [
    {
     "data": {
      "text/plain": [
       "<All keys matched successfully>"
      ]
     },
     "execution_count": 4,
     "metadata": {},
     "output_type": "execute_result"
    }
   ],
   "source": [
    "import torch\n",
    "from finn.util.test import get_test_model_trained\n",
    "import brevitas.onnx as bo\n",
    "from qonnx.core.modelwrapper import ModelWrapper\n",
    "from qonnx.transformation.infer_shapes import InferShapes\n",
    "from qonnx.transformation.fold_constants import FoldConstants\n",
    "from qonnx.transformation.general import GiveReadableTensorNames, GiveUniqueNodeNames, RemoveStaticGraphInputs\n",
    "\n",
    "doruk_qnn.load_state_dict(torch.load(PATH,map_location=torch.device('cpu')))"
   ]
  },
  {
   "cell_type": "code",
   "execution_count": 5,
   "id": "09e6522e",
   "metadata": {},
   "outputs": [],
   "source": [
    "bo.export_finn_onnx(doruk_qnn, (1,128,128), build_dir + \"/doruk_qnn.onnx\");"
   ]
  },
  {
   "cell_type": "code",
   "execution_count": 6,
   "id": "5ab05d9d",
   "metadata": {
    "scrolled": true
   },
   "outputs": [
    {
     "name": "stdout",
     "output_type": "stream",
     "text": [
      "Serving '/home/kuantek/FINN/finn/notebooks/samet_workspace/vivado_proj/doruk_qnn.onnx' at http://0.0.0.0:8081\n"
     ]
    },
    {
     "data": {
      "text/html": [
       "\n",
       "        <iframe\n",
       "            width=\"100%\"\n",
       "            height=\"400\"\n",
       "            src=\"http://localhost:8081/\"\n",
       "            frameborder=\"0\"\n",
       "            allowfullscreen\n",
       "            \n",
       "        ></iframe>\n",
       "        "
      ],
      "text/plain": [
       "<IPython.lib.display.IFrame at 0x7f09f57767c0>"
      ]
     },
     "execution_count": 6,
     "metadata": {},
     "output_type": "execute_result"
    }
   ],
   "source": [
    "showInNetron(build_dir+\"/doruk_qnn.onnx\")"
   ]
  },
  {
   "cell_type": "code",
   "execution_count": 7,
   "id": "e8a363e7",
   "metadata": {},
   "outputs": [
    {
     "name": "stderr",
     "output_type": "stream",
     "text": [
      "/home/kuantek/FINN/finn/deps/qonnx/src/qonnx/core/modelwrapper.py:93: UserWarning: Some old-style domain attributes were automatically converted to new-style,\n",
      "                i.e. domain=finn to domain=qonnx.custom_op.<general|fpgadataflow|...>\n",
      "  warnings.warn(\n"
     ]
    }
   ],
   "source": [
    "from qonnx.core.modelwrapper import ModelWrapper\n",
    "model = ModelWrapper(build_dir+\"/doruk_qnn.onnx\")"
   ]
  },
  {
   "cell_type": "code",
   "execution_count": 8,
   "id": "fb7abc4c",
   "metadata": {},
   "outputs": [],
   "source": [
    "model = model.transform(InferShapes())\n",
    "model = model.transform(FoldConstants())\n",
    "model = model.transform(GiveUniqueNodeNames())\n",
    "model = model.transform(GiveReadableTensorNames())\n",
    "model = model.transform(RemoveStaticGraphInputs())"
   ]
  },
  {
   "cell_type": "code",
   "execution_count": 9,
   "id": "c77d8f7e",
   "metadata": {},
   "outputs": [
    {
     "name": "stdout",
     "output_type": "stream",
     "text": [
      "Stopping http://0.0.0.0:8081\n",
      "Serving '/home/kuantek/FINN/finn/notebooks/samet_workspace/vivado_proj/doruk_tidy.onnx' at http://0.0.0.0:8081\n"
     ]
    },
    {
     "data": {
      "text/html": [
       "\n",
       "        <iframe\n",
       "            width=\"100%\"\n",
       "            height=\"400\"\n",
       "            src=\"http://localhost:8081/\"\n",
       "            frameborder=\"0\"\n",
       "            allowfullscreen\n",
       "            \n",
       "        ></iframe>\n",
       "        "
      ],
      "text/plain": [
       "<IPython.lib.display.IFrame at 0x7f09f5776ee0>"
      ]
     },
     "execution_count": 9,
     "metadata": {},
     "output_type": "execute_result"
    }
   ],
   "source": [
    "from qonnx.transformation.change_3d_tensors_to_4d import Change3DTo4DTensors\n",
    "model = model.transform(Change3DTo4DTensors())\n",
    "model.save(build_dir + \"/doruk_tidy.onnx\")\n",
    "showInNetron(build_dir+\"/doruk_tidy.onnx\")"
   ]
  },
  {
   "cell_type": "code",
   "execution_count": 10,
   "id": "6101da1f",
   "metadata": {},
   "outputs": [
    {
     "name": "stdout",
     "output_type": "stream",
     "text": [
      "Stopping http://0.0.0.0:8081\n",
      "Serving '/home/kuantek/FINN/finn/notebooks/samet_workspace/vivado_proj/doruk_lenet_preproc.onnx' at http://0.0.0.0:8081\n"
     ]
    },
    {
     "name": "stderr",
     "output_type": "stream",
     "text": [
      "/home/kuantek/FINN/finn/deps/qonnx/src/qonnx/transformation/infer_data_layouts.py:119: UserWarning: Assuming 4D input is NCHW\n",
      "  warnings.warn(\"Assuming 4D input is NCHW\")\n"
     ]
    },
    {
     "data": {
      "text/html": [
       "\n",
       "        <iframe\n",
       "            width=\"100%\"\n",
       "            height=\"400\"\n",
       "            src=\"http://localhost:8081/\"\n",
       "            frameborder=\"0\"\n",
       "            allowfullscreen\n",
       "            \n",
       "        ></iframe>\n",
       "        "
      ],
      "text/plain": [
       "<IPython.lib.display.IFrame at 0x7f09ec4a3850>"
      ]
     },
     "execution_count": 10,
     "metadata": {},
     "output_type": "execute_result"
    }
   ],
   "source": [
    "from finn.util.pytorch import ToTensor\n",
    "from qonnx.transformation.merge_onnx_models import MergeONNXModels\n",
    "from qonnx.core.datatype import DataType\n",
    "\n",
    "model = ModelWrapper(build_dir+\"/doruk_tidy.onnx\")\n",
    "global_inp_name = model.graph.input[0].name\n",
    "ishape = model.get_tensor_shape(global_inp_name)\n",
    "# preprocessing: torchvision's ToTensor divides uint8 inputs by 255\n",
    "totensor_pyt = ToTensor()\n",
    "chkpt_preproc_name = build_dir+\"/doruk_lenet_preproc.onnx\"\n",
    "bo.export_finn_onnx(totensor_pyt, ishape, chkpt_preproc_name)\n",
    "\n",
    "# join preprocessing and core model\n",
    "pre_model = ModelWrapper(chkpt_preproc_name)\n",
    "model = model.transform(MergeONNXModels(pre_model))\n",
    "model.save(build_dir + \"/doruk_lenet_preproc.onnx\")\n",
    "showInNetron(build_dir+\"/doruk_lenet_preproc.onnx\")"
   ]
  },
  {
   "cell_type": "code",
   "execution_count": 11,
   "id": "9a257fe1",
   "metadata": {},
   "outputs": [
    {
     "name": "stdout",
     "output_type": "stream",
     "text": [
      "Stopping http://0.0.0.0:8081\n",
      "Serving '/home/kuantek/FINN/finn/notebooks/samet_workspace/vivado_proj/doruk_lenet_tidy.onnx' at http://0.0.0.0:8081\n"
     ]
    },
    {
     "data": {
      "text/html": [
       "\n",
       "        <iframe\n",
       "            width=\"100%\"\n",
       "            height=\"400\"\n",
       "            src=\"http://localhost:8081/\"\n",
       "            frameborder=\"0\"\n",
       "            allowfullscreen\n",
       "            \n",
       "        ></iframe>\n",
       "        "
      ],
      "text/plain": [
       "<IPython.lib.display.IFrame at 0x7f09ec4a3fa0>"
      ]
     },
     "execution_count": 11,
     "metadata": {},
     "output_type": "execute_result"
    }
   ],
   "source": [
    "from qonnx.core.modelwrapper import ModelWrapper\n",
    "model = ModelWrapper(build_dir+\"/doruk_lenet_preproc.onnx\")\n",
    "model = model.transform(InferShapes())\n",
    "model = model.transform(FoldConstants())\n",
    "model = model.transform(GiveUniqueNodeNames())\n",
    "model = model.transform(GiveReadableTensorNames())\n",
    "model = model.transform(RemoveStaticGraphInputs())\n",
    "model.save(build_dir + \"/doruk_lenet_tidy.onnx\")\n",
    "showInNetron(build_dir+\"/doruk_lenet_tidy.onnx\")"
   ]
  },
  {
   "cell_type": "code",
   "execution_count": 12,
   "id": "53b6ca9b",
   "metadata": {
    "scrolled": true
   },
   "outputs": [],
   "source": [
    "from finn.transformation.streamline import Streamline\n",
    "from qonnx.transformation.lower_convs_to_matmul import LowerConvsToMatMul\n",
    "from qonnx.transformation.bipolar_to_xnor import ConvertBipolarMatMulToXnorPopcount\n",
    "import finn.transformation.streamline.absorb as absorb\n",
    "from finn.transformation.streamline.reorder import MakeMaxPoolNHWC, MoveScalarLinearPastInvariants\n",
    "from qonnx.transformation.infer_data_layouts import InferDataLayouts\n",
    "from qonnx.transformation.general import RemoveUnusedTensors\n",
    "\n",
    "model = ModelWrapper(build_dir + \"/doruk_lenet_tidy.onnx\")\n",
    "model = model.transform(MoveScalarLinearPastInvariants())\n",
    "model = model.transform(Streamline())\n",
    "model = model.transform(LowerConvsToMatMul())\n",
    "model = model.transform(MakeMaxPoolNHWC())\n",
    "model = model.transform(absorb.AbsorbTransposeIntoMultiThreshold())\n",
    "model = model.transform(ConvertBipolarMatMulToXnorPopcount())\n",
    "model = model.transform(Streamline())\n",
    "# absorb final add-mul nodes into TopK\n",
    "model = model.transform(absorb.AbsorbScalarMulAddIntoTopK())\n",
    "model = model.transform(InferDataLayouts())\n",
    "model = model.transform(RemoveUnusedTensors())\n",
    "model.save(build_dir + \"/end2end_cnv_w1a1_streamlined.onnx\")"
   ]
  },
  {
   "cell_type": "code",
   "execution_count": 13,
   "id": "34989aea",
   "metadata": {},
   "outputs": [
    {
     "name": "stdout",
     "output_type": "stream",
     "text": [
      "Stopping http://0.0.0.0:8081\n",
      "Serving '/home/kuantek/FINN/finn/notebooks/samet_workspace/vivado_proj/end2end_cnv_w1a1_streamlined.onnx' at http://0.0.0.0:8081\n"
     ]
    },
    {
     "data": {
      "text/html": [
       "\n",
       "        <iframe\n",
       "            width=\"100%\"\n",
       "            height=\"400\"\n",
       "            src=\"http://localhost:8081/\"\n",
       "            frameborder=\"0\"\n",
       "            allowfullscreen\n",
       "            \n",
       "        ></iframe>\n",
       "        "
      ],
      "text/plain": [
       "<IPython.lib.display.IFrame at 0x7f09ec471490>"
      ]
     },
     "execution_count": 13,
     "metadata": {},
     "output_type": "execute_result"
    }
   ],
   "source": [
    "showInNetron(build_dir+\"/end2end_cnv_w1a1_streamlined.onnx\")"
   ]
  },
  {
   "cell_type": "code",
   "execution_count": 14,
   "id": "4549434e",
   "metadata": {},
   "outputs": [
    {
     "name": "stderr",
     "output_type": "stream",
     "text": [
      "/home/kuantek/FINN/finn/src/finn/transformation/move_reshape.py:76: UserWarning: Could not absorb transpose->flatten                                         into subsequent node\n",
      "  warnings.warn(\n"
     ]
    }
   ],
   "source": [
    "import finn.transformation.fpgadataflow.convert_to_hls_layers as to_hls\n",
    "from finn.transformation.fpgadataflow.create_dataflow_partition import (\n",
    "    CreateDataflowPartition,\n",
    ")\n",
    "from finn.transformation.move_reshape import RemoveCNVtoFCFlatten\n",
    "from qonnx.custom_op.registry import getCustomOp\n",
    "from qonnx.transformation.infer_data_layouts import InferDataLayouts\n",
    "\n",
    "# choose the memory mode for the MVTU units, decoupled or const\n",
    "mem_mode = \"decoupled\"\n",
    "\n",
    "model = ModelWrapper(build_dir + \"/end2end_cnv_w1a1_streamlined.onnx\")\n",
    "model = model.transform(to_hls.InferBinaryMatrixVectorActivation(mem_mode))\n",
    "model = model.transform(to_hls.InferQuantizedMatrixVectorActivation(mem_mode))\n",
    "# TopK to LabelSelect\n",
    "model = model.transform(to_hls.InferLabelSelectLayer())\n",
    "# input quantization (if any) to standalone thresholding\n",
    "model = model.transform(to_hls.InferThresholdingLayer())\n",
    "model = model.transform(to_hls.InferConvInpGen())\n",
    "model = model.transform(to_hls.InferStreamingMaxPool())\n",
    "# get rid of Reshape(-1, 1) operation between hlslib nodes\n",
    "model = model.transform(RemoveCNVtoFCFlatten())\n",
    "# get rid of Tranpose -> Tranpose identity seq\n",
    "model = model.transform(absorb.AbsorbConsecutiveTransposes())\n",
    "# infer tensor data layouts\n",
    "model = model.transform(InferDataLayouts())\n",
    "parent_model = model.transform(CreateDataflowPartition())\n",
    "parent_model.save(build_dir + \"/end2end_cnv_w1a1_dataflow_parent.onnx\")\n",
    "sdp_node = parent_model.get_nodes_by_op_type(\"StreamingDataflowPartition\")[0]\n",
    "sdp_node = getCustomOp(sdp_node)\n",
    "dataflow_model_filename = sdp_node.get_nodeattr(\"model\")\n",
    "# save the dataflow partition with a different name for easier access\n",
    "dataflow_model = ModelWrapper(dataflow_model_filename)\n",
    "dataflow_model.save(build_dir + \"/end2end_cnv_w1a1_dataflow_model.onnx\")"
   ]
  },
  {
   "cell_type": "code",
   "execution_count": 15,
   "id": "b60aa606",
   "metadata": {},
   "outputs": [
    {
     "name": "stdout",
     "output_type": "stream",
     "text": [
      "Stopping http://0.0.0.0:8081\n",
      "Serving '/home/kuantek/FINN/finn/notebooks/samet_workspace/vivado_proj/end2end_cnv_w1a1_dataflow_model.onnx' at http://0.0.0.0:8081\n"
     ]
    },
    {
     "data": {
      "text/html": [
       "\n",
       "        <iframe\n",
       "            width=\"100%\"\n",
       "            height=\"400\"\n",
       "            src=\"http://localhost:8081/\"\n",
       "            frameborder=\"0\"\n",
       "            allowfullscreen\n",
       "            \n",
       "        ></iframe>\n",
       "        "
      ],
      "text/plain": [
       "<IPython.lib.display.IFrame at 0x7f09ec248070>"
      ]
     },
     "execution_count": 15,
     "metadata": {},
     "output_type": "execute_result"
    }
   ],
   "source": [
    "showInNetron(build_dir+\"/end2end_cnv_w1a1_dataflow_model.onnx\")"
   ]
  },
  {
   "cell_type": "code",
   "execution_count": 16,
   "id": "b5e6fce6",
   "metadata": {},
   "outputs": [],
   "source": [
    "model = ModelWrapper(build_dir + \"/end2end_cnv_w1a1_dataflow_model.onnx\")\n",
    "fc_layers = model.get_nodes_by_op_type(\"MatrixVectorActivation\")\n",
    "# each tuple is (PE, SIMD, in_fifo_depth) for a layer\n",
    "folding = [\n",
    "    (1, 1, [32]),\n",
    "    (1, 1, [32]),\n",
    "    (1, 1, [32]),\n",
    "    (1, 1, [32]),\n",
    "    (1, 1, [32]),\n",
    "    (1, 1, [32]),\n",
    "    (1, 1, [32]),\n",
    "    (1, 1, [32]),\n",
    "    \n",
    "]\n",
    "for fcl, (pe, simd, ififodepth) in zip(fc_layers, folding):\n",
    "    fcl_inst = getCustomOp(fcl)\n",
    "    fcl_inst.set_nodeattr(\"PE\", pe)\n",
    "    fcl_inst.set_nodeattr(\"SIMD\", simd)\n",
    "    fcl_inst.set_nodeattr(\"inFIFODepths\", ififodepth)\n",
    "\n",
    "# use same SIMD values for the sliding window operators\n",
    "swg_layers = model.get_nodes_by_op_type(\"ConvolutionInputGenerator\")\n",
    "for i in range(len(swg_layers)):\n",
    "    swg_inst = getCustomOp(swg_layers[i])\n",
    "    simd = folding[i][1]\n",
    "    swg_inst.set_nodeattr(\"SIMD\", simd)\n",
    "\n",
    "model = model.transform(GiveUniqueNodeNames())\n",
    "model.save(build_dir + \"/end2end_cnv_w1a1_folded.onnx\")"
   ]
  },
  {
   "cell_type": "code",
   "execution_count": 17,
   "id": "db171288",
   "metadata": {},
   "outputs": [
    {
     "name": "stdout",
     "output_type": "stream",
     "text": [
      "Stopping http://0.0.0.0:8081\n",
      "Serving '/home/kuantek/FINN/finn/notebooks/samet_workspace/vivado_proj/end2end_cnv_w1a1_folded.onnx' at http://0.0.0.0:8081\n"
     ]
    },
    {
     "data": {
      "text/html": [
       "\n",
       "        <iframe\n",
       "            width=\"100%\"\n",
       "            height=\"400\"\n",
       "            src=\"http://localhost:8081/\"\n",
       "            frameborder=\"0\"\n",
       "            allowfullscreen\n",
       "            \n",
       "        ></iframe>\n",
       "        "
      ],
      "text/plain": [
       "<IPython.lib.display.IFrame at 0x7f09ec4710a0>"
      ]
     },
     "execution_count": 17,
     "metadata": {},
     "output_type": "execute_result"
    }
   ],
   "source": [
    "showInNetron(build_dir + \"/end2end_cnv_w1a1_folded.onnx\")"
   ]
  },
  {
   "cell_type": "code",
   "execution_count": 22,
   "id": "f81cafaf",
   "metadata": {},
   "outputs": [
    {
     "name": "stderr",
     "output_type": "stream",
     "text": [
      "/home/kuantek/FINN/finn/src/finn/transformation/fpgadataflow/floorplan.py:108: UserWarning: 37 nodes have no entry in the provided floorplan, SLR was set to -1\n",
      "  warnings.warn(\n",
      "/home/kuantek/FINN/finn/src/finn/transformation/fpgadataflow/insert_fifo.py:292: UserWarning: Output FIFO for Thresholding_Batch_2_out0 has depth 2 and won't\n",
      "                        be created. This may cause RTL simulation issues.\n",
      "                        \n",
      "  warnings.warn(\n"
     ]
    }
   ],
   "source": [
    "test_pynq_board = \"ZCU104\"\n",
    "target_clk_ns = 20\n",
    "\n",
    "from finn.transformation.fpgadataflow.make_zynq_proj import ZynqBuild\n",
    "model = ModelWrapper(build_dir+\"/end2end_cnv_w1a1_folded.onnx\")\n",
    "model = model.transform(ZynqBuild(platform = test_pynq_board, period_ns = target_clk_ns))"
   ]
  },
  {
   "cell_type": "code",
   "execution_count": null,
   "id": "8fb5411d",
   "metadata": {},
   "outputs": [],
   "source": []
  }
 ],
 "metadata": {
  "kernelspec": {
   "display_name": "Python 3 (ipykernel)",
   "language": "python",
   "name": "python3"
  },
  "language_info": {
   "codemirror_mode": {
    "name": "ipython",
    "version": 3
   },
   "file_extension": ".py",
   "mimetype": "text/x-python",
   "name": "python",
   "nbconvert_exporter": "python",
   "pygments_lexer": "ipython3",
   "version": "3.8.5"
  }
 },
 "nbformat": 4,
 "nbformat_minor": 5
}
